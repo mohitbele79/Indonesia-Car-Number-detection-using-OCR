{
 "cells": [
  {
   "cell_type": "code",
   "execution_count": 2,
   "id": "57175343-b067-49d8-9196-ace1f16a67c6",
   "metadata": {},
   "outputs": [],
   "source": [
    "import cv2\n",
    "import pytesseract"
   ]
  },
  {
   "cell_type": "code",
   "execution_count": 3,
   "id": "2e374b6a-6462-427b-ab45-cdd2549c6e4a",
   "metadata": {},
   "outputs": [],
   "source": [
    "plate=cv2.CascadeClassifier('haarcascade_license_plate_rus_16stages.xml')"
   ]
  },
  {
   "cell_type": "code",
   "execution_count": 4,
   "id": "d51f5a41-aa30-4700-b767-638ee8a02a75",
   "metadata": {},
   "outputs": [],
   "source": [
    "pytesseract.pytesseract.tesseract_cmd = r\"C:\\Program Files\\Tesseract-OCR\\tesseract.exe\""
   ]
  },
  {
   "cell_type": "code",
   "execution_count": 25,
   "id": "89afee66-431a-46a2-bb4b-3a57634f5419",
   "metadata": {
    "scrolled": true
   },
   "outputs": [
    {
     "name": "stdout",
     "output_type": "stream",
     "text": [
      "Detected Text: mee |\n",
      "Detected Text: Pee\n",
      "Detected Text: aoe |\n",
      "Detected Text: B98 11x99)\n",
      "Detected Text: yam yra |\n",
      "Detected Text: ya re |\n",
      "Detected Text: poBATxA\n",
      "Detected Text: ae |\n",
      "Detected Text: ae\n",
      "Detected Text: are |\n",
      "Detected Text: SpmeEregre |\n",
      "Detected Text: Reengre, |\n",
      "Detected Text: Ere e\n",
      "Detected Text: SR SEe ye |\n",
      "Detected Text: ae |\n",
      "Detected Text: RSET |\n",
      "Detected Text: ~ eee\n",
      "Detected Text: FRET |\n",
      "Detected Text: Sr ae |\n",
      "Detected Text: Slenocne\n",
      "Detected Text: poe To, |\n",
      "Detected Text: BIBT xe)\n",
      "Detected Text: |\n",
      "Detected Text: =a |\n"
     ]
    }
   ],
   "source": [
    "vid = cv2.VideoCapture('car4.mp4')\n",
    "\n",
    "\n",
    "while True:\n",
    "    ret,frame=vid.read()\n",
    "    if not ret:\n",
    "        break\n",
    "    #im_resize=cv2.resize(frame,(1200,600))    \n",
    "    cv2.imshow('frame',frame)  \n",
    "    ############# Plate detaction################\n",
    "    imag=cv2.cvtColor(frame,cv2.COLOR_BGR2GRAY)\n",
    "    faces=plate.detectMultiScale(imag,1.1,4)\n",
    "    for (x,y,w,h) in faces:\n",
    "        cv2.rectangle(imag,(x,y),(x+w,y+h),(255,0,0),3)\n",
    "        crop_image=imag[y:y+h, x:x+w]\n",
    "\n",
    "    ############# Give the image to OCR ##########\n",
    "        text = pytesseract.image_to_string(crop_image, config='--psm 7')  # PSM 7 for single line text\n",
    "        print(f\"Detected Text: {text.strip()}\")\n",
    "        cv2.imshow('Frame with Plates', crop_image)\n",
    "    \n",
    "    \n",
    "    if cv2.waitKey(1) & 0xFF == ord('q'): \n",
    "        break\n",
    "vid.release() \n",
    "cv2.destroyAllWindows()  "
   ]
  },
  {
   "cell_type": "code",
   "execution_count": null,
   "id": "8910cc39-513f-4559-b766-2c9db5af22ab",
   "metadata": {},
   "outputs": [],
   "source": []
  }
 ],
 "metadata": {
  "kernelspec": {
   "display_name": "Python 3 (ipykernel)",
   "language": "python",
   "name": "python3"
  },
  "language_info": {
   "codemirror_mode": {
    "name": "ipython",
    "version": 3
   },
   "file_extension": ".py",
   "mimetype": "text/x-python",
   "name": "python",
   "nbconvert_exporter": "python",
   "pygments_lexer": "ipython3",
   "version": "3.12.4"
  }
 },
 "nbformat": 4,
 "nbformat_minor": 5
}
